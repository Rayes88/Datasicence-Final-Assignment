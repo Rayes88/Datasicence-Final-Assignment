{
 "cells": [
  {
   "cell_type": "markdown",
   "id": "330d61a3",
   "metadata": {},
   "source": [
    "# Data Science Tools and Ecosystem"
   ]
  },
  {
   "cell_type": "markdown",
   "id": "2664bcb8",
   "metadata": {},
   "source": [
    "In this notebook, we explore some of the most popular tools, languages, and libraries used in data science. We will also see examples of arithmetic operations and learn how to create and share notebooks."
   ]
  },
  {
   "cell_type": "markdown",
   "id": "2484c037",
   "metadata": {},
   "source": [
    "Some of the popular languages that Data Scientists use are:\n",
    "\n",
    "- Python\n",
    "- R\n",
    "- Julia\n",
    "- SQL"
   ]
  },
  {
   "cell_type": "markdown",
   "id": "e24c5eaf",
   "metadata": {},
   "source": [
    "Some of the commonly used libraries used by Data Scientists include:\n",
    "\n",
    "- Pandas\n",
    "- NumPy\n",
    "- Matplotlib\n",
    "- Scikit-learn\n",
    "- TensorFlow"
   ]
  },
  {
   "cell_type": "markdown",
   "id": "8d110b77",
   "metadata": {},
   "source": [
    "| Tool            | Description                     |\n",
    "|-----------------|---------------------------------|\n",
    "| Jupyter Notebook| Interactive Python notebook     |\n",
    "| RStudio         | IDE for R programming           |\n",
    "| Apache Zeppelin | Web-based notebook for big data |"
   ]
  },
  {
   "cell_type": "markdown",
   "id": "825754f3",
   "metadata": {},
   "source": [
    "### Below are a few examples of evaluating arithmetic expressions in Python."
   ]
  },
  {
   "cell_type": "code",
   "execution_count": null,
   "id": "bc46917e",
   "metadata": {},
   "outputs": [],
   "source": [
    "# This expression multiplies 3 by 4 and adds 5\n",
    "(3 * 4) + 5"
   ]
  },
  {
   "cell_type": "code",
   "execution_count": null,
   "id": "98ae4b52",
   "metadata": {},
   "outputs": [],
   "source": [
    "# This converts 200 minutes to hours\n",
    "200 / 60"
   ]
  },
  {
   "cell_type": "markdown",
   "id": "99a41590",
   "metadata": {},
   "source": [
    "Objectives of this notebook include:\n",
    "\n",
    "- Listing popular languages in data science\n",
    "- Listing common libraries used by data scientists\n",
    "- Displaying development tools for data science\n",
    "- Performing arithmetic operations using Python\n",
    "- Converting units (minutes to hours)"
   ]
  },
  {
   "cell_type": "markdown",
   "id": "bc479ebb",
   "metadata": {},
   "source": [
    "**Author:** Your Full Name"
   ]
  }
 ],
 "metadata": {},
 "nbformat": 4,
 "nbformat_minor": 5
}
